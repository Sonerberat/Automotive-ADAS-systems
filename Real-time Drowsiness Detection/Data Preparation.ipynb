{
 "cells": [
  {
   "cell_type": "code",
   "execution_count": 18,
   "id": "7eea880b",
   "metadata": {},
   "outputs": [],
   "source": [
    "import os\n",
    "import glob\n",
    "import shutil\n",
    "import random\n",
    "from tqdm import tqdm"
   ]
  },
  {
   "cell_type": "markdown",
   "id": "412a76df",
   "metadata": {},
   "source": [
    "subject ID: xxx\n",
    "\n",
    "image number: xxx\n",
    "\n",
    "gender: 0 - male 1 - famale\n",
    "\n",
    "glasses: 0 - no 1 - yes\n",
    "\n",
    "eye state: 0 - close 1 - open\n",
    "\n",
    "reflections: 0 - none 1 - low 2 - high\n",
    "\n",
    "lighting conditions/image quality: 0 - bad 1 - good\n",
    "\n",
    "sensor type: 01 - RealSense SR300 640x480 02 - IDS Imaging, 1280x1024 03 - Aptina Imagin 752x480\n",
    "\n",
    "example: s001_00123_0_0_0_0_0_01.png"
   ]
  },
  {
   "cell_type": "code",
   "execution_count": 22,
   "id": "8850ff10",
   "metadata": {},
   "outputs": [
    {
     "name": "stderr",
     "output_type": "stream",
     "text": [
      "0it [00:00, ?it/s]\n",
      "100%|██████████| 3242/3242 [00:02<00:00, 1346.57it/s]\n",
      "100%|██████████| 1114/1114 [00:00<00:00, 1267.00it/s]\n",
      "100%|██████████| 679/679 [00:00<00:00, 1267.82it/s]\n",
      "100%|██████████| 1069/1069 [00:00<00:00, 1222.19it/s]\n",
      "100%|██████████| 736/736 [00:00<00:00, 1167.67it/s]\n",
      "100%|██████████| 1012/1012 [00:00<00:00, 1183.58it/s]\n",
      "100%|██████████| 624/624 [00:00<00:00, 1311.67it/s]\n",
      "100%|██████████| 832/832 [00:00<00:00, 1103.47it/s]\n",
      "100%|██████████| 387/387 [00:00<00:00, 1263.95it/s]\n",
      "100%|██████████| 399/399 [00:00<00:00, 1187.14it/s]\n",
      "100%|██████████| 1648/1648 [00:01<00:00, 1268.16it/s]\n",
      "100%|██████████| 8728/8728 [00:07<00:00, 1158.70it/s]\n",
      "100%|██████████| 3605/3605 [00:03<00:00, 1059.70it/s]\n",
      "100%|██████████| 8884/8884 [00:08<00:00, 1056.02it/s]\n",
      "100%|██████████| 1132/1132 [00:00<00:00, 1255.56it/s]\n",
      "100%|██████████| 1889/1889 [00:01<00:00, 1138.94it/s]\n",
      "100%|██████████| 1648/1648 [00:01<00:00, 1075.79it/s]\n",
      "100%|██████████| 4410/4410 [00:04<00:00, 961.05it/s] \n",
      "100%|██████████| 6175/6175 [00:06<00:00, 972.74it/s] \n",
      "100%|██████████| 704/704 [00:00<00:00, 966.96it/s] \n",
      "100%|██████████| 987/987 [00:01<00:00, 980.81it/s] \n",
      "100%|██████████| 382/382 [00:00<00:00, 1164.20it/s]\n",
      "100%|██████████| 522/522 [00:00<00:00, 1068.16it/s]\n",
      "100%|██████████| 752/752 [00:00<00:00, 1103.97it/s]\n",
      "100%|██████████| 1502/1502 [00:01<00:00, 1180.26it/s]\n",
      "100%|██████████| 1246/1246 [00:01<00:00, 1093.03it/s]\n",
      "100%|██████████| 665/665 [00:00<00:00, 1178.05it/s]\n",
      "100%|██████████| 736/736 [00:00<00:00, 971.01it/s] \n",
      "100%|██████████| 1393/1393 [00:01<00:00, 904.61it/s]\n",
      "100%|██████████| 1384/1384 [00:01<00:00, 1204.60it/s]\n",
      "100%|██████████| 1738/1738 [00:01<00:00, 1033.60it/s]\n",
      "100%|██████████| 6162/6162 [00:05<00:00, 1064.89it/s]\n",
      "100%|██████████| 681/681 [00:00<00:00, 1031.45it/s]\n",
      "100%|██████████| 739/739 [00:00<00:00, 1022.03it/s]\n",
      "100%|██████████| 642/642 [00:00<00:00, 957.91it/s] \n",
      "100%|██████████| 6193/6193 [00:05<00:00, 1067.85it/s]\n",
      "100%|██████████| 10257/10257 [00:09<00:00, 1061.56it/s]\n"
     ]
    }
   ],
   "source": [
    "raw_data = r'C:\\Users\\soner\\OneDrive\\Desktop\\Real-time Drowsiness Detection/mrlEyes_2018_01'\n",
    "for dirpath, dirname, filename in os.walk(raw_data):\n",
    "    for file in tqdm([f for f in filename if f.endswith('.png')]):\n",
    "        if file.split('_')[4] == '0':\n",
    "            path=r'C:\\Users\\soner\\OneDrive\\Desktop\\Real-time Drowsiness Detection\\MRL Eye Data\\Prepared_Data\\Close Eyes'\n",
    "            if not os.path.exists(path):\n",
    "                os.makedirs(path)\n",
    "            shutil.copy(src=dirpath + '/' + file, dst= path)\n",
    "        elif file.split('_')[4] == '1':\n",
    "            path=r'C:\\Users\\soner\\OneDrive\\Desktop\\Real-time Drowsiness Detection\\MRL Eye Data\\Prepared_Data\\Open Eyes'\n",
    "            if not os.path.exists(path):\n",
    "                os.makedirs(path)\n",
    "            shutil.copy(src=dirpath + '/' + file, dst= path)        "
   ]
  },
  {
   "cell_type": "code",
   "execution_count": 23,
   "id": "34940cab",
   "metadata": {},
   "outputs": [],
   "source": [
    "def create_test_closed(source, destination, percent):\n",
    "    '''\n",
    "    divides closed eyes images into given percent and moves from\n",
    "    source to destination.\n",
    "    \n",
    "    Arguments:\n",
    "    source(path): path of source directory\n",
    "    destination(path): path of destination directory\n",
    "    percent(float): percent of data to be divided(range: 0 to 1)\n",
    "    '''\n",
    "    path, dirs, files_closed = next(os.walk(source))\n",
    "    file_count_closed = len(files_closed)\n",
    "    percentage = file_count_closed * percent\n",
    "    to_move = random.sample(glob.glob(source + \"/*.png\"), int(percentage))\n",
    "\n",
    "    for f in enumerate(to_move):\n",
    "        if not os.path.exists(destination):\n",
    "            os.makedirs(destination)\n",
    "        shutil.move(f[1], destination)\n",
    "    print(f'moved {int(percentage)} images to the destination successfully.') "
   ]
  },
  {
   "cell_type": "code",
   "execution_count": 24,
   "id": "dc44a7c9",
   "metadata": {},
   "outputs": [],
   "source": [
    "def create_test_open(source, destination, percent):\n",
    "    '''\n",
    "    divides open eyes images into given percent and moves from\n",
    "    source to destination.\n",
    "    \n",
    "    Arguments:\n",
    "    source(path): path of source directory\n",
    "    destination(path): path of destination directory\n",
    "    percent(float): percent of data to be divided(range: 0 to 1)\n",
    "    '''\n",
    "    path, dirs, files_open = next(os.walk(source))\n",
    "    file_count_open = len(files_open)\n",
    "    percentage = file_count_open * percent\n",
    "    to_move = random.sample(glob.glob(source + \"/*.png\"), int(percentage))\n",
    "\n",
    "    for f in enumerate(to_move):\n",
    "        if not os.path.exists(destination):\n",
    "            os.makedirs(destination)\n",
    "        shutil.move(f[1], destination)\n",
    "    print(f'moved {int(percentage)} images to the destination successfully.')"
   ]
  },
  {
   "cell_type": "code",
   "execution_count": 26,
   "id": "01023211",
   "metadata": {},
   "outputs": [
    {
     "name": "stdout",
     "output_type": "stream",
     "text": [
      "moved 8389 images to the destination successfully.\n"
     ]
    }
   ],
   "source": [
    "create_test_closed(r'C:\\Users\\soner\\OneDrive\\Desktop\\Real-time Drowsiness Detection\\MRL Eye Data\\Prepared_Data\\Close Eyes', \n",
    "                    r'C:\\Users\\soner\\OneDrive\\Desktop\\Real-time Drowsiness Detection\\MRL Eye Data\\Prepared_Data\\Close Eyes\\Test Data\\Closed Eyes',\n",
    "                    0.2)"
   ]
  },
  {
   "cell_type": "code",
   "execution_count": 27,
   "id": "ead84c9e",
   "metadata": {},
   "outputs": [
    {
     "name": "stdout",
     "output_type": "stream",
     "text": [
      "moved 8590 images to the destination successfully.\n"
     ]
    }
   ],
   "source": [
    "create_test_open(r'C:\\Users\\soner\\OneDrive\\Desktop\\Real-time Drowsiness Detection\\MRL Eye Data\\Prepared_Data\\Open Eyes', \n",
    "                    r'C:\\Users\\soner\\OneDrive\\Desktop\\Real-time Drowsiness Detection\\MRL Eye Data\\Prepared_Data\\Close Eyes\\Test Data\\Open Eyes',\n",
    "                    0.2)"
   ]
  },
  {
   "cell_type": "code",
   "execution_count": null,
   "id": "0991a683",
   "metadata": {},
   "outputs": [],
   "source": []
  }
 ],
 "metadata": {
  "kernelspec": {
   "display_name": "Python 3 (ipykernel)",
   "language": "python",
   "name": "python3"
  },
  "language_info": {
   "codemirror_mode": {
    "name": "ipython",
    "version": 3
   },
   "file_extension": ".py",
   "mimetype": "text/x-python",
   "name": "python",
   "nbconvert_exporter": "python",
   "pygments_lexer": "ipython3",
   "version": "3.9.12"
  }
 },
 "nbformat": 4,
 "nbformat_minor": 5
}
